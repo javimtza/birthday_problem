{
 "cells": [
  {
   "cell_type": "markdown",
   "metadata": {},
   "source": [
    "# Birthday Problem\n",
    "____"
   ]
  },
  {
   "cell_type": "markdown",
   "metadata": {},
   "source": [
    "### Imports"
   ]
  },
  {
   "cell_type": "code",
   "execution_count": 67,
   "metadata": {},
   "outputs": [],
   "source": [
    "import math\n",
    "import numpy as np\n",
    "import random\n",
    "import plotly.graph_objs as go\n",
    "import plotly.plotly as py\n",
    "import pandas as pd"
   ]
  },
  {
   "cell_type": "markdown",
   "metadata": {},
   "source": [
    "### Simulation"
   ]
  },
  {
   "cell_type": "markdown",
   "metadata": {},
   "source": [
    "Below we will create a definition that simulates this problem. The simulation will consist of days of the year being numbered from 1-366. Three lists of 1-365 and one list from 1-366 will be joined to simulate leap year. There will be an empty list called birthdays, where we will append x random days of the year that represent the birthday of x individuals. After that, we have a list of x birthdays we check to see if any of the numbers are repeated. This process will be repeated n = 1000000  times to ensure that the results are reliable. "
   ]
  },
  {
   "cell_type": "code",
   "execution_count": 68,
   "metadata": {},
   "outputs": [],
   "source": [
    "def birthday_problem(people, n=1000000): \n",
    "    days = []\n",
    "    for i in range(4):\n",
    "        if i == 0:\n",
    "            days.extend([i for i in range(1,367)])    #Days of a leap year in numerical order drom 1 - 366\n",
    "        else:\n",
    "            days.extend([i for i in range(1,366)])    #Days of 3 regular years in numerical order from 1 - 365\n",
    "    success = 0                             #Number of successes and failures to tally up conversion rate\n",
    "    fail = 0                         \n",
    "    for _ in range(n):                      #Loop that iterates n times where n is the number of trials we will observe\n",
    "        birthdays = []                      \n",
    "        for _ in range(people):             #Creating a list of birtdhays by chosing randoms days out of the year\n",
    "            birthdays.append(random.choice(days))\n",
    "        same = [x for x in birthdays if birthdays.count(x) > 1] #Filtering out birthdays that are repeated\n",
    "        if len(same)>0:\n",
    "            success+=1\n",
    "        else:\n",
    "            fail+=1\n",
    "\n",
    "    prob_yes = round(success/(n)*100,2)\n",
    "    if prob_yes == 100 and people < 368:    #To avoid false rounting to 100%.\n",
    "        prob_yes = 99.99\n",
    "    \n",
    "    print(f'Based on one million trials, the probability that there is a shared birthday in a room of {people} people is {prob_yes}%\\nSuccesses: {success}\\nFailures: {fail}\\n')\n",
    "    return prob_yes"
   ]
  },
  {
   "cell_type": "markdown",
   "metadata": {},
   "source": [
    "Now that we have the simulation defined, we can now test the initial statement that says: \"If there are 23 people in a room, the probability that there is one shared birthday is around 50%\""
   ]
  },
  {
   "cell_type": "code",
   "execution_count": 69,
   "metadata": {},
   "outputs": [
    {
     "name": "stdout",
     "output_type": "stream",
     "text": [
      "Based on one million trials, the probability that there is a shared birthday in a room of 23 people is 50.69%\n",
      "Successes: 506872\n",
      "Failures: 493128\n",
      "\n"
     ]
    },
    {
     "data": {
      "text/plain": [
       "50.69"
      ]
     },
     "execution_count": 69,
     "metadata": {},
     "output_type": "execute_result"
    }
   ],
   "source": [
    "birthday_problem(23)"
   ]
  },
  {
   "cell_type": "markdown",
   "metadata": {},
   "source": [
    "As we can see above, when a room of 23 people is simulated we get a birthday match around 50.69% of the time. Since variability is expected, our result is only slightly smaller than our theoretical 50.73%, however close enough to accept the results. \n",
    "\n",
    "Now, we will simulate the birthday problem with 5-70 people in increments of 5"
   ]
  },
  {
   "cell_type": "code",
   "execution_count": 70,
   "metadata": {
    "scrolled": true
   },
   "outputs": [
    {
     "name": "stdout",
     "output_type": "stream",
     "text": [
      "Based on one million trials, the probability that there is a shared birthday in a room of 5 people is 2.7%\n",
      "Successes: 27020\n",
      "Failures: 972980\n",
      "\n",
      "Based on one million trials, the probability that there is a shared birthday in a room of 10 people is 11.74%\n",
      "Successes: 117356\n",
      "Failures: 882644\n",
      "\n",
      "Based on one million trials, the probability that there is a shared birthday in a room of 15 people is 25.2%\n",
      "Successes: 252010\n",
      "Failures: 747990\n",
      "\n",
      "Based on one million trials, the probability that there is a shared birthday in a room of 20 people is 41.22%\n",
      "Successes: 412173\n",
      "Failures: 587827\n",
      "\n",
      "Based on one million trials, the probability that there is a shared birthday in a room of 25 people is 56.81%\n",
      "Successes: 568132\n",
      "Failures: 431868\n",
      "\n",
      "Based on one million trials, the probability that there is a shared birthday in a room of 30 people is 70.62%\n",
      "Successes: 706152\n",
      "Failures: 293848\n",
      "\n",
      "Based on one million trials, the probability that there is a shared birthday in a room of 35 people is 81.41%\n",
      "Successes: 814110\n",
      "Failures: 185890\n",
      "\n",
      "Based on one million trials, the probability that there is a shared birthday in a room of 40 people is 89.07%\n",
      "Successes: 890697\n",
      "Failures: 109303\n",
      "\n",
      "Based on one million trials, the probability that there is a shared birthday in a room of 45 people is 94.08%\n",
      "Successes: 940846\n",
      "Failures: 59154\n",
      "\n",
      "Based on one million trials, the probability that there is a shared birthday in a room of 50 people is 97.03%\n",
      "Successes: 970292\n",
      "Failures: 29708\n",
      "\n",
      "Based on one million trials, the probability that there is a shared birthday in a room of 55 people is 98.6%\n",
      "Successes: 986047\n",
      "Failures: 13953\n",
      "\n",
      "Based on one million trials, the probability that there is a shared birthday in a room of 60 people is 99.4%\n",
      "Successes: 993991\n",
      "Failures: 6009\n",
      "\n",
      "Based on one million trials, the probability that there is a shared birthday in a room of 65 people is 99.77%\n",
      "Successes: 997715\n",
      "Failures: 2285\n",
      "\n",
      "Based on one million trials, the probability that there is a shared birthday in a room of 70 people is 99.91%\n",
      "Successes: 999144\n",
      "Failures: 856\n",
      "\n"
     ]
    }
   ],
   "source": [
    "people = [5,10,15,20,25,30,35,40,45,50,55,60,65,70]\n",
    "percentages = []\n",
    "for i in people:\n",
    "    a = birthday_problem(i)\n",
    "    percentages.append(a)"
   ]
  },
  {
   "cell_type": "markdown",
   "metadata": {},
   "source": [
    "### Visualizing Results"
   ]
  },
  {
   "cell_type": "code",
   "execution_count": 121,
   "metadata": {
    "scrolled": true
   },
   "outputs": [],
   "source": [
    "bins = [0,25,50,75,100]\n",
    "labels = ['Very Unlikely', 'Unlikely','Likely','Very Likely']\n",
    "colors = {\n",
    "    'Very Unlikely':'orangered',\n",
    "    'Unlikely': 'orange',\n",
    "    'Likely':'lightgreen',\n",
    "    'Very Likely':'darkgreen'\n",
    "}\n",
    "\n",
    "df = pd.DataFrame({'y':percentages,\n",
    "                   'x': people,\n",
    "                   'label':pd.cut(percentages, bins=bins, labels=labels)})\n",
    "\n",
    "data = []\n",
    "for label, label_df in df.groupby('label'):\n",
    "    data.append(go.Bar(x = label_df.x,\n",
    "                       y = label_df.y,\n",
    "                       name = label,\n",
    "                       marker = {'color': colors[label]}))\n",
    "    \n",
    "    \n",
    "\n",
    "layout = go.Layout(\n",
    "    title='Probability Of Shared Birthday',\n",
    "    xaxis=dict(\n",
    "        title='Number of People',\n",
    "        titlefont=dict(\n",
    "            family='Courier New, monospace',\n",
    "            size=18,\n",
    "            color='#7f7f7f'\n",
    "        )\n",
    "    ),\n",
    "    yaxis=dict(\n",
    "        title='Probability (%)',\n",
    "        titlefont=dict(\n",
    "            family='Courier New, monospace',\n",
    "            size=18,\n",
    "            color='#7f7f7f'\n",
    "        )\n",
    "    )\n",
    ")  \n",
    "fig = go.FigureWidget(data=data, layout=layout)\n",
    "#plot_url = py.plot(fig, filename='styling-names')"
   ]
  },
  {
   "cell_type": "code",
   "execution_count": 122,
   "metadata": {},
   "outputs": [
    {
     "data": {
      "application/vnd.jupyter.widget-view+json": {
       "model_id": "969a97d97175451d83878e3fd434bfc1",
       "version_major": 2,
       "version_minor": 0
      },
      "text/plain": [
       "FigureWidget({\n",
       "    'data': [{'marker': {'color': 'orangered'},\n",
       "              'name': 'Very Unlikely',\n",
       "        …"
      ]
     },
     "metadata": {},
     "output_type": "display_data"
    }
   ],
   "source": [
    "go.FigureWidget(data=data, layout=layout)"
   ]
  },
  {
   "cell_type": "markdown",
   "metadata": {},
   "source": [
    "### Comparing Simmulation vs Theory"
   ]
  },
  {
   "cell_type": "code",
   "execution_count": 103,
   "metadata": {},
   "outputs": [],
   "source": [
    "theoretical_results= []\n",
    "for i in people:\n",
    "    theoretical_results.append(round((1 - (math.factorial(365)/(math.factorial(365-i)*365**i)))*100,2))"
   ]
  },
  {
   "cell_type": "code",
   "execution_count": 120,
   "metadata": {},
   "outputs": [],
   "source": [
    "comparison = pd.DataFrame()\n",
    "comparison['Number of people in a room'] = people\n",
    "comparison['Theoretical results'] = theoretical_results\n",
    "comparison['Simulated results'] = percentages\n",
    "comparison['Difference'] = abs(comparison['Theoretical results'] - comparison['Simulated results'])"
   ]
  },
  {
   "cell_type": "code",
   "execution_count": 118,
   "metadata": {},
   "outputs": [
    {
     "data": {
      "text/html": [
       "<div>\n",
       "<style scoped>\n",
       "    .dataframe tbody tr th:only-of-type {\n",
       "        vertical-align: middle;\n",
       "    }\n",
       "\n",
       "    .dataframe tbody tr th {\n",
       "        vertical-align: top;\n",
       "    }\n",
       "\n",
       "    .dataframe thead th {\n",
       "        text-align: right;\n",
       "    }\n",
       "</style>\n",
       "<table border=\"1\" class=\"dataframe\">\n",
       "  <thead>\n",
       "    <tr style=\"text-align: right;\">\n",
       "      <th></th>\n",
       "      <th>Number of people in a room</th>\n",
       "      <th>Theoretical results</th>\n",
       "      <th>Simulated results</th>\n",
       "      <th>Difference</th>\n",
       "    </tr>\n",
       "  </thead>\n",
       "  <tbody>\n",
       "    <tr>\n",
       "      <th>0</th>\n",
       "      <td>5</td>\n",
       "      <td>2.71</td>\n",
       "      <td>2.70</td>\n",
       "      <td>0.01</td>\n",
       "    </tr>\n",
       "    <tr>\n",
       "      <th>1</th>\n",
       "      <td>10</td>\n",
       "      <td>11.69</td>\n",
       "      <td>11.74</td>\n",
       "      <td>0.05</td>\n",
       "    </tr>\n",
       "    <tr>\n",
       "      <th>2</th>\n",
       "      <td>15</td>\n",
       "      <td>25.29</td>\n",
       "      <td>25.20</td>\n",
       "      <td>0.09</td>\n",
       "    </tr>\n",
       "    <tr>\n",
       "      <th>3</th>\n",
       "      <td>20</td>\n",
       "      <td>41.14</td>\n",
       "      <td>41.22</td>\n",
       "      <td>0.08</td>\n",
       "    </tr>\n",
       "    <tr>\n",
       "      <th>4</th>\n",
       "      <td>25</td>\n",
       "      <td>56.87</td>\n",
       "      <td>56.81</td>\n",
       "      <td>0.06</td>\n",
       "    </tr>\n",
       "    <tr>\n",
       "      <th>5</th>\n",
       "      <td>30</td>\n",
       "      <td>70.63</td>\n",
       "      <td>70.62</td>\n",
       "      <td>0.01</td>\n",
       "    </tr>\n",
       "    <tr>\n",
       "      <th>6</th>\n",
       "      <td>35</td>\n",
       "      <td>81.44</td>\n",
       "      <td>81.41</td>\n",
       "      <td>0.03</td>\n",
       "    </tr>\n",
       "    <tr>\n",
       "      <th>7</th>\n",
       "      <td>40</td>\n",
       "      <td>89.12</td>\n",
       "      <td>89.07</td>\n",
       "      <td>0.05</td>\n",
       "    </tr>\n",
       "    <tr>\n",
       "      <th>8</th>\n",
       "      <td>45</td>\n",
       "      <td>94.10</td>\n",
       "      <td>94.08</td>\n",
       "      <td>0.02</td>\n",
       "    </tr>\n",
       "    <tr>\n",
       "      <th>9</th>\n",
       "      <td>50</td>\n",
       "      <td>97.04</td>\n",
       "      <td>97.03</td>\n",
       "      <td>0.01</td>\n",
       "    </tr>\n",
       "    <tr>\n",
       "      <th>10</th>\n",
       "      <td>55</td>\n",
       "      <td>98.63</td>\n",
       "      <td>98.60</td>\n",
       "      <td>0.03</td>\n",
       "    </tr>\n",
       "    <tr>\n",
       "      <th>11</th>\n",
       "      <td>60</td>\n",
       "      <td>99.41</td>\n",
       "      <td>99.40</td>\n",
       "      <td>0.01</td>\n",
       "    </tr>\n",
       "    <tr>\n",
       "      <th>12</th>\n",
       "      <td>65</td>\n",
       "      <td>99.77</td>\n",
       "      <td>99.77</td>\n",
       "      <td>0.00</td>\n",
       "    </tr>\n",
       "    <tr>\n",
       "      <th>13</th>\n",
       "      <td>70</td>\n",
       "      <td>99.92</td>\n",
       "      <td>99.91</td>\n",
       "      <td>0.01</td>\n",
       "    </tr>\n",
       "  </tbody>\n",
       "</table>\n",
       "</div>"
      ],
      "text/plain": [
       "    Number of people in a room  Theoretical results  Simulated results  \\\n",
       "0                            5                 2.71               2.70   \n",
       "1                           10                11.69              11.74   \n",
       "2                           15                25.29              25.20   \n",
       "3                           20                41.14              41.22   \n",
       "4                           25                56.87              56.81   \n",
       "5                           30                70.63              70.62   \n",
       "6                           35                81.44              81.41   \n",
       "7                           40                89.12              89.07   \n",
       "8                           45                94.10              94.08   \n",
       "9                           50                97.04              97.03   \n",
       "10                          55                98.63              98.60   \n",
       "11                          60                99.41              99.40   \n",
       "12                          65                99.77              99.77   \n",
       "13                          70                99.92              99.91   \n",
       "\n",
       "    Difference  \n",
       "0         0.01  \n",
       "1         0.05  \n",
       "2         0.09  \n",
       "3         0.08  \n",
       "4         0.06  \n",
       "5         0.01  \n",
       "6         0.03  \n",
       "7         0.05  \n",
       "8         0.02  \n",
       "9         0.01  \n",
       "10        0.03  \n",
       "11        0.01  \n",
       "12        0.00  \n",
       "13        0.01  "
      ]
     },
     "execution_count": 118,
     "metadata": {},
     "output_type": "execute_result"
    }
   ],
   "source": [
    "comparison"
   ]
  }
 ],
 "metadata": {
  "kernelspec": {
   "display_name": "Python 3",
   "language": "python",
   "name": "python3"
  },
  "language_info": {
   "codemirror_mode": {
    "name": "ipython",
    "version": 3
   },
   "file_extension": ".py",
   "mimetype": "text/x-python",
   "name": "python",
   "nbconvert_exporter": "python",
   "pygments_lexer": "ipython3",
   "version": "3.7.1"
  }
 },
 "nbformat": 4,
 "nbformat_minor": 2
}
